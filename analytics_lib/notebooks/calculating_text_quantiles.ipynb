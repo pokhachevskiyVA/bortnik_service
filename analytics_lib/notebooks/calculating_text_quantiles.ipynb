{
 "cells": [
  {
   "cell_type": "code",
   "execution_count": 16,
   "id": "be8b1aa3",
   "metadata": {},
   "outputs": [],
   "source": [
    "import numpy as np\n",
    "import pandas as pd\n",
    "import json\n",
    "import warnings\n",
    "warnings.filterwarnings(\"ignore\")"
   ]
  },
  {
   "cell_type": "markdown",
   "id": "17e60bff",
   "metadata": {},
   "source": [
    "## Считываем из кэша уже посчитанные таблицы с признаками"
   ]
  },
  {
   "cell_type": "code",
   "execution_count": 17,
   "id": "d9598b9c",
   "metadata": {},
   "outputs": [],
   "source": [
    "public_df = pd.read_pickle(\"../data/public_df.pkl\")\n",
    "public_semantic_role_df = pd.read_pickle(\"../data/public_semantic_role_df.pkl\")\n",
    "morph_df = pd.read_pickle(\"../data/morph_df.pkl\")"
   ]
  },
  {
   "cell_type": "markdown",
   "id": "55d98684",
   "metadata": {},
   "source": [
    "## Вычисление квантилей по каждой фиче и сохранение в словарь"
   ]
  },
  {
   "cell_type": "code",
   "execution_count": 18,
   "id": "7e10a205",
   "metadata": {},
   "outputs": [],
   "source": [
    "def round_of_dict(dict1):\n",
    "    for key in dict1.keys():\n",
    "        dict1[key] = round(dict1[key], 2)\n",
    "    return dict1"
   ]
  },
  {
   "cell_type": "code",
   "execution_count": 19,
   "id": "1d5489ec",
   "metadata": {},
   "outputs": [],
   "source": [
    "# text_features\n",
    "dict_res = {}\n",
    "list_of_text_features = public_df._get_numeric_data().columns.to_list()\n",
    "list_of_verb_features = [\"Прошедшее, %\", \"Настоящее, %\", \"Будущее, %\", \"Абсолютное, %\"]\n",
    "list_of_semantic_role_features = ['Агенс', 'Пациенс', 'Внутренний предикат', 'Внешний предикат']\n",
    "\n",
    "for feature_name in list_of_text_features:\n",
    "    dict_temp = {\"0\": public_df[feature_name].quantile(q = 0), \"20\": public_df[feature_name].quantile(q = 0.2), \"40\": public_df[feature_name].quantile(q = 0.4), \"60\": public_df[feature_name].quantile(q = 0.6), \"80\": public_df[feature_name].quantile(q = 0.8), \"100\": public_df[feature_name].quantile(q = 1)}\n",
    "    dict_temp = round_of_dict(dict_temp)\n",
    "    dict_res[feature_name] = dict_temp\n",
    "    dict_temp = {}\n",
    "# verb_features\n",
    "for feature_name in list_of_verb_features:\n",
    "    dict_temp = {\"0\": morph_df[feature_name].quantile(q = 0), \"20\": morph_df[feature_name].quantile(q = 0.2), \"40\": morph_df[feature_name].quantile(q = 0.4), \"60\": morph_df[feature_name].quantile(q = 0.6), \"80\": morph_df[feature_name].quantile(q = 0.8), \"100\": morph_df[feature_name].quantile(q = 1)}\n",
    "    dict_temp = round_of_dict(dict_temp)\n",
    "    dict_res[feature_name] = dict_temp\n",
    "    dict_temp = {}\n",
    "# semantic_role_features\n",
    "for feature_name in list_of_semantic_role_features:\n",
    "    dict_temp = {\"0\": public_semantic_role_df[feature_name].quantile(q = 0), \"20\": public_semantic_role_df[feature_name].quantile(q = 0.2), \"40\": public_semantic_role_df[feature_name].quantile(q = 0.4), \"60\": public_semantic_role_df[feature_name].quantile(q = 0.6), \"80\": public_semantic_role_df[feature_name].quantile(q = 0.8), \"100\": public_semantic_role_df[feature_name].quantile(q = 1)}\n",
    "    dict_temp = round_of_dict(dict_temp)\n",
    "    dict_res[feature_name] = dict_temp\n",
    "    dict_temp = {}"
   ]
  },
  {
   "cell_type": "markdown",
   "id": "3ff98e00",
   "metadata": {},
   "source": [
    "## Сохранение словаря c квантилями в json"
   ]
  },
  {
   "cell_type": "code",
   "execution_count": 20,
   "id": "99465d15",
   "metadata": {},
   "outputs": [],
   "source": [
    "with open('../data/quantiles.json', 'w', encoding = \"utf8\") as f:\n",
    "    json.dump(dict_res, f, ensure_ascii=False)"
   ]
  }
 ],
 "metadata": {
  "kernelspec": {
   "display_name": "bortnik",
   "language": "python",
   "name": "bortnik"
  },
  "language_info": {
   "codemirror_mode": {
    "name": "ipython",
    "version": 3
   },
   "file_extension": ".py",
   "mimetype": "text/x-python",
   "name": "python",
   "nbconvert_exporter": "python",
   "pygments_lexer": "ipython3",
   "version": "3.9.13"
  }
 },
 "nbformat": 4,
 "nbformat_minor": 5
}
