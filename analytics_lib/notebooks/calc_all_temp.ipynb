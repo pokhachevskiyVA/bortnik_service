{
 "cells": [
  {
   "cell_type": "markdown",
   "id": "d8ca256b",
   "metadata": {},
   "source": [
    "# Вычисление всех психотипов"
   ]
  },
  {
   "cell_type": "code",
   "execution_count": 1,
   "id": "9deece96",
   "metadata": {},
   "outputs": [],
   "source": [
    "import sys\n",
    "sys.path.append(\"../../\")"
   ]
  },
  {
   "cell_type": "code",
   "execution_count": 2,
   "id": "78319ca7",
   "metadata": {},
   "outputs": [
    {
     "name": "stderr",
     "output_type": "stream",
     "text": [
      "/Users/mac-os/Documents/Work/bortnik_psychometry/bortnik/lib/python3.9/site-packages/outdated/utils.py:14: OutdatedPackageWarning: The package pingouin is out of date. Your version is 0.3.11, the latest is 0.5.3.\n",
      "Set the environment variable OUTDATED_IGNORE=1 to disable these warnings.\n",
      "  return warn(\n"
     ]
    }
   ],
   "source": [
    "import warnings\n",
    "import pingouin as pg\n",
    "import matplotlib.pyplot as plt\n",
    "import pandas as pd\n",
    "import pickle\n",
    "import json\n",
    "import numpy as np\n",
    "import random\n",
    "import itertools as it\n",
    "from collections import Counter\n",
    "from tqdm import tqdm\n",
    "from analytics_lib.nlp_texts.psychotype import dict_with_psychotype_by_text, dict_norm, dict_norm_cheb, dict_with_temp_by_text"
   ]
  },
  {
   "cell_type": "code",
   "execution_count": 3,
   "id": "98ed4877",
   "metadata": {},
   "outputs": [],
   "source": [
    "def temp_by_text(text, list_features):\n",
    "    df_merge_slice = df_merge[['Текст'] + list_features]\n",
    "    dict_n = dict_norm_cheb(dict_with_temp_by_text(text, df_merge_slice, df_merge_slice, df_merge_slice, df_merge_slice))\n",
    "    for psych in [\"Меланхолик\", \"Холерик\", \"Флегматик\", \"Сангвиник\"]:\n",
    "        if not dict_n.get(psych):\n",
    "            dict_n[psych] = 0\n",
    "    return dict_n"
   ]
  },
  {
   "cell_type": "code",
   "execution_count": 5,
   "id": "17d32f32-e8ce-4900-ba48-2e336a10bfcd",
   "metadata": {},
   "outputs": [
    {
     "name": "stderr",
     "output_type": "stream",
     "text": [
      "100%|█████████████████████████████████████████████████████████████████████████████████| 2678/2678 [27:13<00:00,  1.64it/s]"
     ]
    },
    {
     "name": "stdout",
     "output_type": "stream",
     "text": [
      "Доля однозначно определенных темпераментов: 0.7905153099327856\n"
     ]
    },
    {
     "name": "stderr",
     "output_type": "stream",
     "text": [
      "\n"
     ]
    }
   ],
   "source": [
    "PATH = '../data/update_dataframes'\n",
    "public_df = pd.read_pickle(f\"{PATH}/public_df.pkl\")\n",
    "df_merge = public_df\n",
    "list_of_texts = list(df_merge[\"Текст\"])\n",
    "list_of_features = list(df_merge._get_numeric_data().columns)\n",
    "ind = 1\n",
    "statistics = []\n",
    "\n",
    "for text in tqdm(list_of_texts):\n",
    "    statistics.append({})\n",
    "    statistics[ind-1]['Текст'] = text\n",
    "    dict_psych = temp_by_text(text, list_of_features)\n",
    "    for psych in dict_psych.keys():\n",
    "        statistics[ind-1][psych] = dict_psych[psych]\n",
    "    ind += 1\n",
    "    \n",
    "df_statistics = pd.DataFrame(statistics)   \n",
    "list_psych = [\"Меланхолик\", \"Холерик\", \"Флегматик\", \"Сангвиник\"]\n",
    "df_statistics['count_max'] = (df_statistics[list_psych] == 1.00).sum(axis=1)\n",
    "df_statistics['psych_max'] = df_statistics[list_psych].idxmax(axis=1)\n",
    "part = df_statistics['count_max'].value_counts(1)[1] # доля однозначно определенных психотипов\n",
    "print(f\"Доля однозначно определенных темпераментов: {part}\")\n",
    "\n",
    "df_statistics.to_pickle(\"../data/df_temp_all.pkl\")"
   ]
  },
  {
   "cell_type": "code",
   "execution_count": null,
   "id": "fa476098-a4e4-455f-b56d-a92f244a1c99",
   "metadata": {},
   "outputs": [],
   "source": []
  }
 ],
 "metadata": {
  "kernelspec": {
   "display_name": "bortnik",
   "language": "python",
   "name": "bortnik"
  },
  "language_info": {
   "codemirror_mode": {
    "name": "ipython",
    "version": 3
   },
   "file_extension": ".py",
   "mimetype": "text/x-python",
   "name": "python",
   "nbconvert_exporter": "python",
   "pygments_lexer": "ipython3",
   "version": "3.9.13"
  }
 },
 "nbformat": 4,
 "nbformat_minor": 5
}
