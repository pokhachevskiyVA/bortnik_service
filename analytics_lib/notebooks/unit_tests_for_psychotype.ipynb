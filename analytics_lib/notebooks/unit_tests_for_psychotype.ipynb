{
 "cells": [
  {
   "cell_type": "markdown",
   "id": "2e160909",
   "metadata": {},
   "source": [
    "# UNIT tests of psychotyping"
   ]
  },
  {
   "cell_type": "code",
   "execution_count": 1,
   "id": "6757aedd",
   "metadata": {},
   "outputs": [],
   "source": [
    "import sys\n",
    "sys.path.append(\"../../\")"
   ]
  },
  {
   "cell_type": "code",
   "execution_count": 4,
   "id": "49405649",
   "metadata": {},
   "outputs": [],
   "source": [
    "import warnings\n",
    "import matplotlib.pyplot as plt\n",
    "import pandas as pd\n",
    "import pickle\n",
    "import json\n",
    "import numpy as np\n",
    "import random\n",
    "from collections import defaultdict, Counter\n",
    "from analytics_lib.nlp_texts.psychotype import dict_with_feature_range_psyh, df_with_sample_ranges_and_psych"
   ]
  },
  {
   "cell_type": "code",
   "execution_count": 5,
   "id": "c9f9ccf5",
   "metadata": {},
   "outputs": [],
   "source": [
    "public_df = pd.read_pickle(\"../data/public_df.pkl\")\n",
    "public_semantic_role_df = pd.read_pickle(\"../data/public_semantic_role_df.pkl\")\n",
    "morph_df = pd.read_pickle(\"../data/morph_df.pkl\")\n",
    "    \n",
    "df_with_ranges = df_with_sample_ranges_and_psych(public_df, public_semantic_role_df, morph_df)"
   ]
  },
  {
   "cell_type": "code",
   "execution_count": 81,
   "id": "a109ba56",
   "metadata": {},
   "outputs": [],
   "source": [
    "def dict_with_features_by_psychotype(psychotype, df_with_ranges):\n",
    "    dict_with_features = {}\n",
    "    dict_with_psychotypes = {\"Истероид\": 0, \"Гипертим\": 0, \"Шизоид\": 0, \"Параноял\": 0, \"Эпилептоид\": 0, \"Эмотив\": 0, \"Тревожный\": 0}\n",
    "    df = df_with_ranges.set_index(\"Название характеристики\")\n",
    "    for feature_name in list(df.index.values):\n",
    "        index_of_end = df.at[feature_name, psychotype].find(\":\")\n",
    "        if index_of_end == -1:\n",
    "            #dict_with_features[feature_name] = [-1, []]\n",
    "            dict_with_features[feature_name] = -1\n",
    "            continue\n",
    "        range_ = df.at[feature_name, psychotype][ :index_of_end]\n",
    "        tuple_range = eval(df.at[feature_name, psychotype][index_of_end + 2:])\n",
    "        if abs(tuple_range[0] - tuple_range[1]) < 1e-5:\n",
    "            continue\n",
    "        # print(\"\\n\\n\")\n",
    "        # print(df.at[feature_name, psychotype])\n",
    "        # print(tuple_range)\n",
    "        #dict_with_local_psych = defaultdict(int)\n",
    "        for key in [\"Истероид\", \"Гипертим\", \"Шизоид\", \"Параноял\", \"Эпилептоид\", \"Эмотив\", \"Тревожный\"]:\n",
    "            if size_by_feature_name_and_psychotype(df, feature_name, key) == range_:\n",
    "                dict_with_psychotypes[f\"{key}\"] += 1\n",
    "                #dict_with_local_psych[f\"{key}\"] += 1\n",
    "                \n",
    "        dict_with_features[feature_name] = random.uniform(tuple_range[0], tuple_range[1])\n",
    "        #dict_with_features[feature_name] = [random.uniform(tuple_range[0], tuple_range[1]), [key for key in dict_with_psychotypes.keys() if dict_with_local_psych[key]]]\n",
    "        #dict_with_local_psych = defaultdict(int)\n",
    "        \n",
    "    res_dict = processed_dict_with_features(dict_with_features, df)\n",
    "    dict_with_psychotypes = {key: value for key, value in dict_with_psychotypes.items() if value}\n",
    "    res_dict[\"psychotype\"] = dict_with_psychotypes\n",
    "    return res_dict"
   ]
  },
  {
   "cell_type": "code",
   "execution_count": 82,
   "id": "75d72846",
   "metadata": {},
   "outputs": [],
   "source": [
    "def processed_dict_with_features(dict_with_all_features, df_with_ranges):\n",
    "    temp_dict_with_features = {\"Морфология\": {}, \"Агенсность, Предикаты\": {}}\n",
    "    list_of_morph = list(df_with_ranges.index.values)\n",
    "    list_of_semantic_role = ['Агенс',\n",
    "                 'Пациенс',\n",
    "                 'Внутренний предикат',\n",
    "                 'Внешний предикат']\n",
    "    for feature_name in list_of_morph:\n",
    "        temp_dict_with_features[\"Морфология\"][feature_name] =  dict_with_all_features.get(feature_name, -1)\n",
    "    for feature_name in list_of_semantic_role:\n",
    "        temp_dict_with_features[\"Агенсность, Предикаты\"][feature_name] =  dict_with_all_features.get(feature_name, -1)\n",
    "        \n",
    "    res_dict_with_features = {}\n",
    "    res_dict_with_features[\"text_feat\"] = temp_dict_with_features\n",
    "    \n",
    "    return res_dict_with_features"
   ]
  },
  {
   "cell_type": "code",
   "execution_count": 83,
   "id": "fc351ad3",
   "metadata": {},
   "outputs": [],
   "source": [
    "def size_by_feature_name_and_psychotype(df, feature_name, psychotype):\n",
    "    index_of_end = df.at[feature_name, psychotype].find(\":\")\n",
    "    if index_of_end == -1:\n",
    "        size = \"-\"\n",
    "        return size\n",
    "    size = df.at[feature_name, psychotype][ :index_of_end]\n",
    "    return size"
   ]
  },
  {
   "cell_type": "markdown",
   "id": "bbf31280",
   "metadata": {},
   "source": [
    "## Сохранение в json по 5 тестов на каждый психотип"
   ]
  },
  {
   "cell_type": "code",
   "execution_count": 88,
   "id": "9b977091",
   "metadata": {},
   "outputs": [
    {
     "name": "stdout",
     "output_type": "stream",
     "text": [
      "CPU times: user 16.9 ms, sys: 2.36 ms, total: 19.2 ms\n",
      "Wall time: 17.8 ms\n"
     ]
    }
   ],
   "source": [
    "%%time\n",
    "for psych in [\"Истероид\", \"Гипертим\", \"Шизоид\", \"Параноял\", \"Эпилептоид\", \"Эмотив\", \"Тревожный\"][:1]:\n",
    "    for i in range(5):\n",
    "        with open(f'tests/{psych}_{i}.json', 'w', encoding = \"utf8\") as f:\n",
    "            json.dump(dict_with_features_by_psychotype(psych, df_with_ranges), f, ensure_ascii=False)"
   ]
  },
  {
   "cell_type": "code",
   "execution_count": 89,
   "id": "1439ef19-543c-4fd2-902a-ffcc3153ed41",
   "metadata": {},
   "outputs": [],
   "source": [
    "def df_from_dict(dict_input):\n",
    "    dict_input['Текст'] = 'Проверочный текст'\n",
    "    dict_res = {k[0]: [k[1]] for k in dict_input.items()}\n",
    "    df = pd.DataFrame.from_dict(dict_res)\n",
    "    return df"
   ]
  },
  {
   "cell_type": "code",
   "execution_count": 90,
   "id": "43c8f494-3bd2-44a9-933c-f69a5e0b7267",
   "metadata": {},
   "outputs": [],
   "source": [
    "list_of_all_tests = []\n",
    "list_of_psychotype = ['Истероид', 'Гипертим', 'Шизоид', 'Параноял', 'Эпилептоид', 'Эмотив', 'Тревожный'][:1]\n",
    "for psych in list_of_psychotype:\n",
    "    for i in range(5):\n",
    "        dict_temp = {}  # словарь для проверки\n",
    "        with open(f'tests/{psych}_{i}.json', encoding='utf-8') as json_file:\n",
    "            dict_temp = json.load(json_file)\n",
    "            list_of_all_tests.append(dict_temp)"
   ]
  },
  {
   "cell_type": "code",
   "execution_count": 92,
   "id": "f221c2ca-4296-4d7a-b018-3b8fb3be6995",
   "metadata": {},
   "outputs": [],
   "source": [
    "list_of_tests_res = []\n",
    "for dict_test in list_of_all_tests:\n",
    "    person_public_df = df_from_dict(dict_test['text_feat']['Морфология'])\n",
    "    person_public_semantic_role_df = df_from_dict(dict_test['text_feat']['Агенсность, Предикаты'])\n",
    "    text = 'Проверочный текст'\n",
    "    dict_psych = dict(dict_with_psychotype_by_text(text, person_public_df, person_public_semantic_role_df, public_df, public_semantic_role_df))\n",
    "    \n",
    "    dict_test_psych = {k: v for k, v in dict_test[\"psychotype\"].items()}\n",
    "    \n",
    "    assert dict_test_psych == dict_psych, \"Несовпадение\""
   ]
  },
  {
   "cell_type": "code",
   "execution_count": 53,
   "id": "7beb89c6-e97c-4528-8b49-77d404849cac",
   "metadata": {},
   "outputs": [],
   "source": [
    "# def dict_with_psychotype_by_text(text, person_public_df, person_public_semantic_role_df, public_df, public_semantic_role_df):\n",
    "#     df = df_with_features_ranges_psyh_by_text(text, person_public_df, person_public_semantic_role_df, pd.DataFrame(), public_df, public_semantic_role_df, pd.DataFrame())\n",
    "#     dict_res = Counter(np.concatenate(df['Психотип']))\n",
    "#     return dict_res\n",
    "\n",
    "# def df_with_features_ranges_psyh_by_text(text, person_public_df, person_public_semantic_role_df, person_morph_df, public_df, public_semantic_role_df, morph_df):\n",
    "#     res_df = pd.DataFrame()\n",
    "#     list_of_text_features = list(df_with_ranges.set_index(\"Название характеристики\").index.values)\n",
    "#     list_of_semantic_role_features = ['Агенс', 'Пациенс', 'Внутренний предикат', 'Внешний предикат']\n",
    "#     list_of_morph_features = [\"Прошедшее, %\", \"Настоящее, %\", \"Будущее, %\", \"Абсолютное, %\"]\n",
    "#     list_of_text_features = [item for item in list_of_text_features if item not in list_of_semantic_role_features + list_of_morph_features]\n",
    "#     #list_of_morph_features = [\"Прошедшее, %\", \"Настоящее, %\", \"Будущее, %\", \"Абсолютное, %\"]\n",
    "#     for feature_name in list_of_text_features:\n",
    "#         dict_text = dict_with_feature_range_psyh(text, feature_name, person_public_df, public_df)\n",
    "#         res_df = res_df.append(dict_text, ignore_index=True)\n",
    "#     for feature_name in list_of_semantic_role_features:\n",
    "#         dict_semantic = dict_with_feature_range_psyh(text, feature_name, person_public_semantic_role_df, public_semantic_role_df)\n",
    "#         res_df = res_df.append(dict_semantic, ignore_index=True)\n",
    "#     # for feature_name in list_of_morph_features:\n",
    "#     #     dict_morph = dict_with_feature_range_psyh(text, feature_name, person_morph_df, morph_df)\n",
    "#     #     res_df = res_df.append(dict_morph, ignore_index=True)\n",
    "#     cols = [\"Название характеристики\", \"Значение\", \"Количество\", \"Диапазон\", \"Психотип\"]\n",
    "#     res_df = res_df[cols]\n",
    "#     return res_df"
   ]
  }
 ],
 "metadata": {
  "kernelspec": {
   "display_name": "bortnik",
   "language": "python",
   "name": "bortnik"
  },
  "language_info": {
   "codemirror_mode": {
    "name": "ipython",
    "version": 3
   },
   "file_extension": ".py",
   "mimetype": "text/x-python",
   "name": "python",
   "nbconvert_exporter": "python",
   "pygments_lexer": "ipython3",
   "version": "3.9.13"
  }
 },
 "nbformat": 4,
 "nbformat_minor": 5
}
